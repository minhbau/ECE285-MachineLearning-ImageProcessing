{
 "cells": [
  {
   "cell_type": "markdown",
   "metadata": {},
   "source": [
    "1. This notebook can build DNN with user-defined number of layers and neurons for MNIST classification.\n",
    "2. The calculation process with Matrix Notation is included in Layer Class."
   ]
  },
  {
   "cell_type": "markdown",
   "metadata": {},
   "source": [
    "# Load Data"
   ]
  },
  {
   "cell_type": "code",
   "execution_count": 1,
   "metadata": {},
   "outputs": [],
   "source": [
    "import copy\n",
    "import random\n",
    "import numpy as np\n",
    "import matplotlib.pyplot as plt\n",
    "from mnist import MNIST\n",
    "from math import exp,log,tanh,sqrt\n",
    "mndata = MNIST('./mnist/')\n",
    "mndata.gz = True\n",
    "images, labels = mndata.load_training()\n",
    "test_imgs, test_labels = mndata.load_testing()"
   ]
  },
  {
   "cell_type": "markdown",
   "metadata": {},
   "source": [
    "# Data Preprocess"
   ]
  },
  {
   "cell_type": "markdown",
   "metadata": {},
   "source": [
    "Shuffle Data"
   ]
  },
  {
   "cell_type": "code",
   "execution_count": 2,
   "metadata": {},
   "outputs": [],
   "source": [
    "all_data=np.concatenate((np.array(images),np.array(labels).reshape(len(labels),1)),axis=1)\n",
    "np.random.shuffle(all_data)\n",
    "images=all_data[:,:-1]\n",
    "labels=all_data[:,-1]"
   ]
  },
  {
   "cell_type": "code",
   "execution_count": 3,
   "metadata": {},
   "outputs": [],
   "source": [
    "images=np.array(images)\n",
    "transfered_images=np.zeros((len(images),784))\n",
    "input_images_feature=np.zeros((len(images),785))\n",
    "transfered_test_images=np.zeros((len(test_imgs),784))\n",
    "input_test_images_feature=np.zeros((len(test_imgs),785))"
   ]
  },
  {
   "cell_type": "code",
   "execution_count": 4,
   "metadata": {},
   "outputs": [],
   "source": [
    "# Put all values into [-1,1]\n",
    "for i in range(len(images)):\n",
    "    transfered_images[i]=np.array(images[i])\n",
    "    transfered_images[i]=transfered_images[i]/127.5 - 1\n",
    "    input_images_feature[i]=np.insert(transfered_images[i],0,1)\n",
    "for i in range(len(test_imgs)):\n",
    "    transfered_test_images[i]=np.array(test_imgs[i])\n",
    "    transfered_test_images[i]=transfered_test_images[i]/127.5 - 1\n",
    "    input_test_images_feature[i]=np.insert(transfered_test_images[i],0,1)"
   ]
  },
  {
   "cell_type": "markdown",
   "metadata": {},
   "source": [
    "This is equal to randomly select since the data has been shuffled before"
   ]
  },
  {
   "cell_type": "code",
   "execution_count": 5,
   "metadata": {},
   "outputs": [],
   "source": [
    "train_features=input_images_feature[:50000]\n",
    "train_labels=labels[:50000]\n",
    "valid_features=input_images_feature[50000:60000]\n",
    "valid_labels=labels[50000:60000]\n",
    "test_features=input_test_images_feature\n",
    "test_labels=test_labels"
   ]
  },
  {
   "cell_type": "markdown",
   "metadata": {},
   "source": [
    "# Minibatch"
   ]
  },
  {
   "cell_type": "code",
   "execution_count": 6,
   "metadata": {},
   "outputs": [],
   "source": [
    "BATCH = 256\n",
    "\n",
    "batch_train_features=[]\n",
    "batch_train_labels=[]\n",
    "for i in range(int(len(train_features)/BATCH)):\n",
    "    batch_train_features.append(train_features[i*BATCH:i*BATCH+BATCH])\n",
    "    batch_train_labels.append(train_labels[i*BATCH:i*BATCH+BATCH])\n",
    "batch_train_features.append(train_features[i*BATCH+BATCH:])\n",
    "batch_train_labels.append(train_labels[i*BATCH+BATCH:])"
   ]
  },
  {
   "cell_type": "markdown",
   "metadata": {},
   "source": [
    "# Layer Class"
   ]
  },
  {
   "cell_type": "code",
   "execution_count": 7,
   "metadata": {},
   "outputs": [],
   "source": [
    "class Layer(object):\n",
    "    \n",
    "    def __init__(self,num_next_layer_neuron):\n",
    "        self.output_num=num_next_layer_neuron\n",
    "        \n",
    "    def configure(self,input_shape,reg_lam):\n",
    "        self.lam = reg_lam\n",
    "        self.w_shape=(input_shape[1],self.output_num)\n",
    "        self.w=np.random.normal(0,1/sqrt(input_shape[0]),self.w_shape)\n",
    "        self.delta_w=np.zeros(self.w_shape)\n",
    "        \n",
    "    def hidden_forward_prop(self,inputs,activate_index):\n",
    "        self.x=copy.deepcopy(inputs)\n",
    "        self.a=np.dot(self.x,self.w)\n",
    "        self.activate_type=activate_index\n",
    "        self.y=np.array(self.activate_func(self.a,activate_index))\n",
    "        self.b=np.ones(len(inputs))\n",
    "        self.output=np.c_[self.b,self.y]\n",
    "        self.gradient=self.gradient_calc(self.output,activate_index)\n",
    "        return self.output\n",
    "    \n",
    "    def hidden_back_prop(self,layer_index,next_layer_w,next_layer_delta,rate,alpha):\n",
    "        if layer_index==1:\n",
    "            self.delta=self.gradient*np.dot(next_layer_delta,next_layer_w.T)\n",
    "        else:\n",
    "            self.delta=self.gradient*np.dot(next_layer_delta[:,1:],next_layer_w.T)\n",
    "            \n",
    "        self.oldweight=copy.deepcopy(self.w)\n",
    "        if self.delta_w.shape[1]>layer_neuron_num_list[len(layer_list)-1-layer_index]:\n",
    "            self.old_delta_weight=copy.deepcopy(self.delta_w[:,1:])\n",
    "        else:\n",
    "            self.old_delta_weight=copy.deepcopy(self.delta_w)\n",
    "            \n",
    "        self.delta_w=rate*(np.dot(self.x.T,self.delta)[:,1:]/len(self.x))\n",
    "        self.old_weight=copy.deepcopy(self.w)\n",
    "        self.w+=alpha*self.old_delta_weight+self.delta_w\n",
    "        \n",
    "    def output_forward_prop(self,inputs,activate_index,label):\n",
    "        self.x=copy.deepcopy(inputs)\n",
    "        self.a=np.dot(self.x,self.w)\n",
    "        self.label=label\n",
    "        self.vector_label=np.zeros((len(inputs),self.output_num))\n",
    "        for i in range(len(inputs)):\n",
    "            self.vector_label[i][int(label[i])]=1\n",
    "        self.activate_type=activate_index\n",
    "        self.y=np.exp(self.a)/np.repeat(np.sum(np.exp(self.a),axis=1).reshape(self.a.shape[0],1),self.a.shape[1],axis=1)\n",
    "        return self.y\n",
    "    \n",
    "    def output_back_prop(self,rate,output_y,alpha):\n",
    "        self.delta=self.vector_label-output_y\n",
    "        self.old_weight=copy.deepcopy(self.w)\n",
    "        self.old_delta_weight=copy.deepcopy(self.delta_w)\n",
    "        self.delta_w=rate*(np.dot(self.x.T,self.delta)/len(self.x) - 2*self.lam*self.w)\n",
    "        self.w+=alpha*self.old_delta_weight+self.delta_w\n",
    "        \n",
    "    def predict(self):\n",
    "        self.predicts=[0]*len(self.x)\n",
    "        self.predicts=self.y.argsort()[:,-1]\n",
    "        \n",
    "    def accuracy(self):\n",
    "        total_num=len(self.x)\n",
    "        correct_num=sum([1 if self.predicts[i]==self.label[i] else 0 for i in range(total_num)])\n",
    "        return correct_num/total_num\n",
    "    \n",
    "    def activate_func(self,a,index):\n",
    "        if index==0:\n",
    "            return 1/(1+np.exp(-a))\n",
    "        if index==1:\n",
    "            return 1.7159*np.tanh(2*a/3)\n",
    "        if index==2:\n",
    "            zeros=np.zeros(a.shape)\n",
    "            return np.maximum(zeros,a)\n",
    "        \n",
    "    def gradient_calc(self,output,index):\n",
    "        if index==0:\n",
    "            return np.multiply((1-output),output)\n",
    "        if index==1:\n",
    "            return 1.7159*(2/3)*(1-(np.tanh(output))**2)\n",
    "        if index==2:\n",
    "            zeros=np.zeros(output.shape)\n",
    "            return np.greater(output,0).astype(int)\n",
    "        \n",
    "    def softmax_entropy(self):\n",
    "        entropy=0\n",
    "        entropy-=sum(np.log(np.sum(self.y*self.vector_label,axis=1)))/self.y.shape[1]\n",
    "        return entropy/(len(self.x)) + np.sum(np.square(self.w)) * self.lam"
   ]
  },
  {
   "cell_type": "markdown",
   "metadata": {},
   "source": [
    "# Initialize Training"
   ]
  },
  {
   "cell_type": "code",
   "execution_count": 8,
   "metadata": {},
   "outputs": [],
   "source": [
    "# Set Initial Parameter for neural network\n",
    "\n",
    "################################################\n",
    "# Set number of neurons for every layer       ##\n",
    "# This also decide how the number of layers   ##\n",
    "# For MNIST the last number must be 10.       ##\n",
    "layer_neuron_num_list=[128,64,10]             ##\n",
    "################################################\n",
    "\n",
    "######################################\n",
    "# Set update rate                   ##\n",
    "output_layer_update_rate=0.00001    ##\n",
    "hidden_layer_update_rate=0.01       ##\n",
    "momentum_alpha=0.9                  ##\n",
    "reg_lambda=0.1                      ##\n",
    "######################################\n",
    "\n",
    "###########################################################################\n",
    "# Set activate function type: 0 for sigmoid, 1 for tanh and 2 for ReLU   ##\n",
    "activate_type_index = 2                                                  ##\n",
    "# Set nunber of data per mini-batch                                      ##\n",
    "num_per_batch = BATCH                                                    ##\n",
    "num_batch_per_epoch=int(len(train_features)/num_per_batch)               ##\n",
    "###########################################################################\n",
    "\n",
    "# Initial list for the layers and their output\n",
    "layer_list=[]\n",
    "valid_layer_list=[]\n",
    "test_layer_list=[]\n",
    "layer_output_list=[]\n",
    "valid_layer_output_list=[]\n",
    "test_layer_output_list=[]\n",
    "\n",
    "# Save data to list\n",
    "train_entropy_data=[]\n",
    "train_accuracy_data=[]\n",
    "valid_entropy_data=[]\n",
    "valid_accuracy_data=[]\n",
    "test_entropy_data=[]\n",
    "test_accuracy_data=[]\n",
    "\n",
    "# Initialize each layer\n",
    "for i in range(len(layer_neuron_num_list)):\n",
    "    layer_list.append(Layer(layer_neuron_num_list[i]))\n",
    "    valid_layer_list.append(Layer(layer_neuron_num_list[i]))\n",
    "    test_layer_list.append(Layer(layer_neuron_num_list[i]))\n",
    "    if i==0:\n",
    "        layer_list[i].configure((len(batch_train_features[0]),785),reg_lambda)\n",
    "        valid_layer_list[i].configure((len(valid_features),785),reg_lambda)\n",
    "        test_layer_list[i].configure((len(test_features),785),reg_lambda)\n",
    "    else:\n",
    "        layer_list[i].configure((len(batch_train_features[0]),layer_neuron_num_list[i-1]+1),reg_lambda)\n",
    "        valid_layer_list[i].configure((len(batch_train_features[0]),layer_neuron_num_list[i-1]+1),reg_lambda)\n",
    "        test_layer_list[i].configure((len(batch_train_features[0]),layer_neuron_num_list[i-1]+1),reg_lambda)"
   ]
  },
  {
   "cell_type": "markdown",
   "metadata": {},
   "source": [
    "# Start Training"
   ]
  },
  {
   "cell_type": "code",
   "execution_count": 9,
   "metadata": {
    "scrolled": false
   },
   "outputs": [
    {
     "name": "stdout",
     "output_type": "stream",
     "text": [
      "iter\ttrain_entropy\t\tvalid_entropy\t\ttest_entropy\t\ttrain_acc\tvalid_acc\ttest_acc\n",
      "1\t0.7154980603645423\t0.7172576631944949\t0.717675219912451\t0.1328125\t0.1101\t0.1053\n",
      "2\t0.6556505728881975\t0.5999836479093041\t0.5985420656951873\t0.5399038461538461\t0.7281\t0.7389\n",
      "3\t0.5717433468173614\t0.553214781323728\t0.5517557842403331\t0.7884615384615384\t0.8316\t0.8336\n",
      "4\t0.5444133176056103\t0.5374353308218704\t0.5357247306892783\t0.8465544871794872\t0.8614\t0.8639\n",
      "5\t0.5333833916651912\t0.5294035599339412\t0.5279339803122501\t0.8670072115384615\t0.8782\t0.8806\n",
      "6\t0.527323986556908\t0.5247108295352664\t0.5231940921728\t0.8788261217948717\t0.8881\t0.8881\n",
      "7\t0.523341085250825\t0.5215270295809175\t0.5199379521714237\t0.8862980769230769\t0.8918\t0.8946\n",
      "8\t0.5203624103815641\t0.51895929074165\t0.5175220702602438\t0.8923878205128205\t0.8951\t0.8967\n",
      "9\t0.5179782736331043\t0.516815930659365\t0.5154145508853039\t0.896113782051282\t0.8993\t0.9005\n",
      "10\t0.5160189317753721\t0.5152279245913436\t0.5137714592678208\t0.8991786858974359\t0.9003\t0.9028\n",
      "11\t0.5142268126005426\t0.5136144840518221\t0.5121518409705309\t0.9022836538461538\t0.9038\t0.9051\n",
      "12\t0.5126303555354536\t0.5120528964664969\t0.5106742858044347\t0.9056089743589744\t0.9064\t0.907\n",
      "13\t0.5111600223553384\t0.510673062325818\t0.5093992082789386\t0.9072916666666667\t0.9064\t0.9097\n",
      "14\t0.5098513527973403\t0.5094885347711808\t0.5080941519835734\t0.909014423076923\t0.9079\t0.9108\n",
      "15\t0.5085176411619676\t0.5084632743923676\t0.5070270532523083\t0.9115785256410256\t0.9102\t0.9139\n",
      "16\t0.5073046925698975\t0.5071070457858239\t0.5057574199197051\t0.9126602564102564\t0.9104\t0.914\n",
      "17\t0.5061600778878759\t0.5060753854880323\t0.5047641647908098\t0.9146834935897435\t0.9127\t0.9157\n",
      "18\t0.5050000164660945\t0.5049442914048355\t0.5035522574015312\t0.9159655448717948\t0.9142\t0.9178\n",
      "19\t0.5038971258762027\t0.5040199520175933\t0.5026304736902907\t0.9174078525641025\t0.9155\t0.9177\n",
      "20\t0.502811723214853\t0.5032041998914394\t0.5018549104415869\t0.9180088141025641\t0.9159\t0.92\n",
      "21\t0.5017241138140013\t0.5019595704121764\t0.5007374539761236\t0.9194511217948718\t0.9155\t0.9199\n",
      "22\t0.5006850305492613\t0.5010278091053164\t0.49958169003611985\t0.9207131410256411\t0.9167\t0.9218\n",
      "23\t0.4996819999456934\t0.5000322661551704\t0.49873142536484383\t0.9222155448717949\t0.918\t0.9218\n",
      "24\t0.49866249265843005\t0.4989942445623796\t0.49771953475999525\t0.9225160256410256\t0.9192\t0.9233\n",
      "25\t0.4976634068098296\t0.49813631498185407\t0.49670491862689425\t0.9238581730769231\t0.919\t0.9244\n",
      "26\t0.4967117898982311\t0.49727748424753\t0.4958123540896485\t0.9247796474358975\t0.9199\t0.9253\n",
      "27\t0.4957193659597147\t0.4962610720019594\t0.4948490122418546\t0.9258012820512821\t0.9219\t0.926\n",
      "28\t0.4947409707666461\t0.4954348824632195\t0.4940323367879214\t0.926542467948718\t0.9209\t0.9273\n",
      "29\t0.493823056581227\t0.49447438436087326\t0.4931469571256218\t0.9274038461538462\t0.9222\t0.9281\n",
      "30\t0.49287831056043935\t0.4936031688512348\t0.4921620681091289\t0.9277844551282052\t0.9225\t0.9281\n",
      "31\t0.49191167153402937\t0.4927817311519361\t0.49133397010230084\t0.9292067307692308\t0.9237\t0.9284\n",
      "32\t0.4909829534412215\t0.49170859121245364\t0.4903989948437832\t0.9297676282051283\t0.9252\t0.9296\n",
      "33\t0.4900593900082378\t0.49082886185177377\t0.4895859204971409\t0.9308092948717949\t0.9258\t0.93\n",
      "34\t0.48919185829056283\t0.49000438735750423\t0.4887166650036418\t0.9309695512820513\t0.925\t0.9294\n",
      "35\t0.48826192064931\t0.4892658728198083\t0.4879066134446592\t0.9327724358974359\t0.9274\t0.932\n",
      "36\t0.4873667898318975\t0.48841608111918544\t0.4870281267387874\t0.932832532051282\t0.927\t0.9321\n",
      "37\t0.4864847628113811\t0.4874269802143834\t0.48606320151996163\t0.933213141025641\t0.9285\t0.9322\n",
      "38\t0.4855931723019565\t0.4866908094458433\t0.4852892902285951\t0.9344551282051282\t0.9285\t0.9339\n",
      "39\t0.4847365940253561\t0.48601593878728483\t0.48463071212702286\t0.9352363782051282\t0.9286\t0.9334\n",
      "40\t0.4838323099157011\t0.48498827804516537\t0.4835193290577548\t0.9361778846153846\t0.93\t0.9335\n",
      "41\t0.4830055976785999\t0.48419056105740593\t0.48269007799620084\t0.9370793269230769\t0.9302\t0.9342\n",
      "42\t0.4821431891776051\t0.48347472161991123\t0.4819798077486411\t0.9371995192307693\t0.9308\t0.9347\n",
      "43\t0.4813021417909321\t0.4825122003667965\t0.4811205130240096\t0.9379407051282052\t0.9324\t0.9353\n",
      "44\t0.4804302652404236\t0.48172933236824245\t0.480285264906658\t0.9388822115384615\t0.9319\t0.9364\n",
      "45\t0.4796077666407842\t0.48086131701754486\t0.4794950259190727\t0.9392027243589743\t0.934\t0.9353\n",
      "46\t0.4787464188529167\t0.4801278272947345\t0.478643225330043\t0.9395432692307693\t0.9333\t0.9366\n",
      "47\t0.4779334623849294\t0.47922055358121357\t0.47772773023620835\t0.9404046474358975\t0.9339\t0.9368\n",
      "48\t0.4771062398687963\t0.47861393649402945\t0.47704483571694817\t0.9407451923076923\t0.9328\t0.9386\n",
      "49\t0.47629418802366175\t0.4777037131890451\t0.476199736992455\t0.9417668269230769\t0.9343\t0.9391\n",
      "50\t0.4754639845884814\t0.4769713384742356\t0.47536748847028076\t0.9420873397435897\t0.9349\t0.939\n",
      "51\t0.47464735193489355\t0.47601182179894785\t0.47463427760129157\t0.9423878205128206\t0.9352\t0.9394\n",
      "52\t0.47382755969858914\t0.47536109462365306\t0.4738443056009891\t0.9434094551282052\t0.9356\t0.94\n",
      "53\t0.4730385579439007\t0.4745627277424426\t0.4730403549769241\t0.94375\t0.9356\t0.9401\n",
      "54\t0.4722493370883699\t0.47381024229984464\t0.47240013431649747\t0.9443910256410256\t0.9352\t0.9408\n",
      "55\t0.4714318540161252\t0.4729549012325201\t0.4714953704968348\t0.9449719551282051\t0.9369\t0.9404\n",
      "56\t0.4706451317363141\t0.47223238845236093\t0.47065039897116917\t0.9458934294871795\t0.9373\t0.9418\n",
      "57\t0.4698480295652778\t0.47150015160510084\t0.4699597748742171\t0.9458133012820513\t0.9375\t0.9431\n",
      "58\t0.46906173910801735\t0.47078164873807116\t0.4691857505202694\t0.946494391025641\t0.9378\t0.9429\n"
     ]
    },
    {
     "ename": "KeyboardInterrupt",
     "evalue": "",
     "output_type": "error",
     "traceback": [
      "\u001b[1;31m---------------------------------------------------------------------------\u001b[0m",
      "\u001b[1;31mKeyboardInterrupt\u001b[0m                         Traceback (most recent call last)",
      "\u001b[1;32m<ipython-input-9-1386e1e3c895>\u001b[0m in \u001b[0;36m<module>\u001b[1;34m()\u001b[0m\n\u001b[0;32m     92\u001b[0m \u001b[1;33m\u001b[0m\u001b[0m\n\u001b[0;32m     93\u001b[0m         \u001b[1;31m# Shuffle train data after one epoch\u001b[0m\u001b[1;33m\u001b[0m\u001b[1;33m\u001b[0m\u001b[0m\n\u001b[1;32m---> 94\u001b[1;33m         \u001b[0mall_train_data\u001b[0m\u001b[1;33m=\u001b[0m\u001b[0mnp\u001b[0m\u001b[1;33m.\u001b[0m\u001b[0mconcatenate\u001b[0m\u001b[1;33m(\u001b[0m\u001b[1;33m(\u001b[0m\u001b[0mnp\u001b[0m\u001b[1;33m.\u001b[0m\u001b[0marray\u001b[0m\u001b[1;33m(\u001b[0m\u001b[0mtrain_features\u001b[0m\u001b[1;33m)\u001b[0m\u001b[1;33m,\u001b[0m\u001b[0mnp\u001b[0m\u001b[1;33m.\u001b[0m\u001b[0marray\u001b[0m\u001b[1;33m(\u001b[0m\u001b[0mtrain_labels\u001b[0m\u001b[1;33m)\u001b[0m\u001b[1;33m.\u001b[0m\u001b[0mreshape\u001b[0m\u001b[1;33m(\u001b[0m\u001b[0mlen\u001b[0m\u001b[1;33m(\u001b[0m\u001b[0mtrain_labels\u001b[0m\u001b[1;33m)\u001b[0m\u001b[1;33m,\u001b[0m\u001b[1;36m1\u001b[0m\u001b[1;33m)\u001b[0m\u001b[1;33m)\u001b[0m\u001b[1;33m,\u001b[0m\u001b[0maxis\u001b[0m\u001b[1;33m=\u001b[0m\u001b[1;36m1\u001b[0m\u001b[1;33m)\u001b[0m\u001b[1;33m\u001b[0m\u001b[0m\n\u001b[0m\u001b[0;32m     95\u001b[0m         \u001b[0mnp\u001b[0m\u001b[1;33m.\u001b[0m\u001b[0mrandom\u001b[0m\u001b[1;33m.\u001b[0m\u001b[0mshuffle\u001b[0m\u001b[1;33m(\u001b[0m\u001b[0mall_train_data\u001b[0m\u001b[1;33m)\u001b[0m\u001b[1;33m\u001b[0m\u001b[0m\n\u001b[0;32m     96\u001b[0m         \u001b[0mnew_train_images\u001b[0m\u001b[1;33m=\u001b[0m\u001b[0mall_train_data\u001b[0m\u001b[1;33m[\u001b[0m\u001b[1;33m:\u001b[0m\u001b[1;33m,\u001b[0m\u001b[1;33m:\u001b[0m\u001b[1;33m-\u001b[0m\u001b[1;36m1\u001b[0m\u001b[1;33m]\u001b[0m\u001b[1;33m\u001b[0m\u001b[0m\n",
      "\u001b[1;31mKeyboardInterrupt\u001b[0m: "
     ]
    }
   ],
   "source": [
    "# Start training\n",
    "saved_valid_entropy=[0,0,0]\n",
    "tmp_train_entropy=[]\n",
    "tmp_train_accuracy=[]\n",
    "\n",
    "# Initial Forward Propagation\n",
    "for i in range(len(layer_list)):\n",
    "    valid_layer_list[i].w=copy.deepcopy(layer_list[i].w)\n",
    "    test_layer_list[i].w=copy.deepcopy(layer_list[i].w)\n",
    "    if i==0:\n",
    "        layer_output_list.append(layer_list[i].hidden_forward_prop(batch_train_features[0],activate_type_index))\n",
    "        valid_layer_output_list.append(valid_layer_list[i].hidden_forward_prop(valid_features,activate_type_index))\n",
    "        test_layer_output_list.append(test_layer_list[i].hidden_forward_prop(test_features,activate_type_index))\n",
    "    elif i!=len(layer_list)-1:\n",
    "        layer_output_list.append(layer_list[i].hidden_forward_prop(layer_output_list[i-1],activate_type_index))\n",
    "        valid_layer_output_list.append(valid_layer_list[i].hidden_forward_prop(valid_layer_output_list[i-1],activate_type_index))\n",
    "        test_layer_output_list.append(test_layer_list[i].hidden_forward_prop(test_layer_output_list[i-1],activate_type_index))\n",
    "    elif i==len(layer_list)-1:\n",
    "        layer_output_list.append(layer_list[i].output_forward_prop(layer_output_list[i-1],activate_type_index,batch_train_labels[0]))\n",
    "        valid_layer_output_list.append(valid_layer_list[i].output_forward_prop(valid_layer_output_list[i-1],activate_type_index,valid_labels))\n",
    "        test_layer_output_list.append(test_layer_list[i].output_forward_prop(test_layer_output_list[i-1],activate_type_index,test_labels))\n",
    "\n",
    "# Start Loop\n",
    "count_epoch=0\n",
    "print('iter\\ttrain_entropy\\t\\tvalid_entropy\\t\\ttest_entropy\\t\\ttrain_acc\\tvalid_acc\\ttest_acc')\n",
    "\n",
    "for num in range(100000000):\n",
    "    \n",
    "    # Backward Propagation\n",
    "    for i in range(len(layer_list)):\n",
    "        if i==0:\n",
    "            layer_list[len(layer_list)-1].output_back_prop(output_layer_update_rate,layer_output_list[len(layer_list)-1],momentum_alpha)\n",
    "        else:\n",
    "            layer_list[len(layer_list)-i-1].hidden_back_prop(i,layer_list[len(layer_list)-i].old_weight,layer_list[len(layer_list)-i].delta,hidden_layer_update_rate,momentum_alpha)\n",
    "\n",
    "    # Forward Propagation\n",
    "    for i in range(len(layer_list)):\n",
    "        valid_layer_list[i].w=copy.deepcopy(layer_list[i].w)\n",
    "        test_layer_list[i].w=copy.deepcopy(layer_list[i].w)\n",
    "        if i==0:\n",
    "            layer_output_list[i]=layer_list[i].hidden_forward_prop(batch_train_features[num%num_batch_per_epoch],activate_type_index)\n",
    "        elif i!=len(layer_list)-1:\n",
    "            layer_output_list[i]=layer_list[i].hidden_forward_prop(layer_output_list[i-1],activate_type_index)\n",
    "        elif i==len(layer_list)-1:\n",
    "            layer_output_list[i]=layer_list[i].output_forward_prop(layer_output_list[i-1],activate_type_index,batch_train_labels[num%num_batch_per_epoch])\n",
    "    layer_list[-1].predict()\n",
    "    tmp_train_accuracy.append(layer_list[-1].accuracy())\n",
    "    tmp_train_entropy.append(layer_list[-1].softmax_entropy())\n",
    "\n",
    "    # One epoch finished\n",
    "    if num%num_batch_per_epoch==0:\n",
    "        count_epoch+=1\n",
    "        train_accuracy=sum(tmp_train_accuracy)/len(tmp_train_accuracy)\n",
    "        train_entropy=sum(tmp_train_entropy)/len(tmp_train_entropy)\n",
    "        tmp_train_entropy=[]\n",
    "        tmp_train_accuracy=[]\n",
    "\n",
    "        # Forward Propagation for valid and test\n",
    "        for i in range(len(layer_list)):\n",
    "            valid_layer_list[i].w=copy.deepcopy(layer_list[i].w)\n",
    "            test_layer_list[i].w=copy.deepcopy(layer_list[i].w)\n",
    "            if i==0:\n",
    "                valid_layer_output_list[i]=valid_layer_list[i].hidden_forward_prop(valid_features,activate_type_index)\n",
    "                test_layer_output_list[i]=test_layer_list[i].hidden_forward_prop(test_features,activate_type_index)\n",
    "            elif i!=len(layer_list)-1:\n",
    "                valid_layer_output_list[i]=valid_layer_list[i].hidden_forward_prop(valid_layer_output_list[i-1],activate_type_index)\n",
    "                test_layer_output_list[i]=test_layer_list[i].hidden_forward_prop(test_layer_output_list[i-1],activate_type_index)\n",
    "            elif i==len(layer_list)-1:\n",
    "                valid_layer_output_list[i]=valid_layer_list[i].output_forward_prop(valid_layer_output_list[i-1],activate_type_index,valid_labels)\n",
    "                test_layer_output_list[i]=test_layer_list[i].output_forward_prop(test_layer_output_list[i-1],activate_type_index,test_labels)\n",
    "\n",
    "        valid_layer_list[len(valid_layer_list)-1].predict()\n",
    "        valid_accuracy=valid_layer_list[len(valid_layer_list)-1].accuracy()\n",
    "        valid_entropy=valid_layer_list[len(valid_layer_list)-1].softmax_entropy()\n",
    "        test_layer_list[len(test_layer_list)-1].predict()\n",
    "        test_accuracy=test_layer_list[len(test_layer_list)-1].accuracy()\n",
    "        test_entropy=test_layer_list[len(test_layer_list)-1].softmax_entropy()\n",
    "\n",
    "        # Save data to list for plotting\n",
    "        train_entropy_data.append(train_entropy)\n",
    "        train_accuracy_data.append(train_accuracy)\n",
    "        valid_entropy_data.append(valid_entropy)\n",
    "        valid_accuracy_data.append(valid_accuracy)\n",
    "        test_entropy_data.append(test_entropy)\n",
    "        test_accuracy_data.append(test_accuracy)\n",
    "        saved_valid_entropy[num%3]=valid_entropy\n",
    "        \n",
    "        # Print Result\n",
    "        print(str(count_epoch)+'\\t'+str(train_entropy)+'\\t'+str(valid_entropy)+'\\t'+\n",
    "              str(test_entropy)+'\\t'+str(train_accuracy)+'\\t'+\n",
    "              str(valid_accuracy)+'\\t'+str(test_accuracy))\n",
    "\n",
    "        # Shuffle train data after one epoch\n",
    "        all_train_data=np.concatenate((np.array(train_features),np.array(train_labels).reshape(len(train_labels),1)),axis=1)\n",
    "        np.random.shuffle(all_train_data)\n",
    "        new_train_images=all_train_data[:,:-1]\n",
    "        new_train_labels=all_train_data[:,-1]\n",
    "        train_features=copy.deepcopy(np.array(new_train_images))\n",
    "        train_labels=copy.deepcopy(np.array(new_train_labels))\n",
    "\n",
    "        # Split mini-batch again\n",
    "        batch_train_features=[]\n",
    "        batch_train_labels=[]\n",
    "        for i in range(int(len(train_features)/num_per_batch)):\n",
    "            batch_train_features.append(train_features[i*num_per_batch:i*num_per_batch+num_per_batch])\n",
    "            batch_train_labels.append(train_labels[i*num_per_batch:i*num_per_batch+num_per_batch])"
   ]
  },
  {
   "cell_type": "markdown",
   "metadata": {},
   "source": [
    "# Plot Result"
   ]
  },
  {
   "cell_type": "code",
   "execution_count": 10,
   "metadata": {},
   "outputs": [
    {
     "data": {
      "image/png": "[encoded data removed]",
      "text/plain": [
       "<Figure size 432x288 with 1 Axes>"
      ]
     },
     "metadata": {},
     "output_type": "display_data"
    }
   ],
   "source": [
    "plt.figure()\n",
    "plt.title('Entropy Curve\\nReLU\\n'+str(len(layer_neuron_num_list)-1)+' Hidden Layers\\n'+str(layer_neuron_num_list[0])+' units each hidden layer')\n",
    "plt.ylabel('Entropy')\n",
    "plt.xlabel('epoch')\n",
    "plt.plot(train_entropy_data,'red')\n",
    "plt.plot(valid_entropy_data,'blue')\n",
    "plt.plot(test_entropy_data,'green')\n",
    "plt.legend(['train','valid','test'])\n",
    "plt.savefig('HW3_entropy_'+str(len(layer_neuron_num_list)-1)+'_hidden_layers_'+str(layer_neuron_num_list[0])+'_neurons_per_layer')\n",
    "plt.show()"
   ]
  },
  {
   "cell_type": "code",
   "execution_count": 11,
   "metadata": {},
   "outputs": [
    {
     "data": {
      "image/png": "[encoded data removed]",
      "text/plain": [
       "<Figure size 432x288 with 1 Axes>"
      ]
     },
     "metadata": {},
     "output_type": "display_data"
    }
   ],
   "source": [
    "plt.figure()\n",
    "plt.title('Accuracy Curve\\nReLU\\n'+str(len(layer_neuron_num_list)-1)+' Hidden Layers\\n'+str(layer_neuron_num_list[0])+' units each hidden layer')\n",
    "plt.ylabel('Accuracy')\n",
    "plt.xlabel('epoch')\n",
    "plt.plot(train_accuracy_data,'red')\n",
    "plt.plot(valid_accuracy_data,'blue')\n",
    "plt.plot(test_accuracy_data,'green')\n",
    "plt.legend(['train','valid','test'])\n",
    "plt.savefig('HW3_accuracy_'+str(len(layer_neuron_num_list)-1)+'_hidden_layers_'+str(layer_neuron_num_list[0])+'_neurons_per_layer')\n",
    "plt.show()"
   ]
  },
  {
   "cell_type": "code",
   "execution_count": null,
   "metadata": {},
   "outputs": [],
   "source": []
  }
 ],
 "metadata": {
  "kernelspec": {
   "display_name": "Python 3",
   "language": "python",
   "name": "python3"
  },
  "language_info": {
   "codemirror_mode": {
    "name": "ipython",
    "version": 3
   },
   "file_extension": ".py",
   "mimetype": "text/x-python",
   "name": "python",
   "nbconvert_exporter": "python",
   "pygments_lexer": "ipython3",
   "version": "3.6.4"
  }
 },
 "nbformat": 4,
 "nbformat_minor": 2
}
